{
  "nbformat": 4,
  "nbformat_minor": 0,
  "metadata": {
    "colab": {
      "provenance": [],
      "authorship_tag": "ABX9TyOvJL5kzHxd0ve0wdUrI59M",
      "include_colab_link": true
    },
    "kernelspec": {
      "name": "python3",
      "display_name": "Python 3"
    },
    "language_info": {
      "name": "python"
    }
  },
  "cells": [
    {
      "cell_type": "markdown",
      "metadata": {
        "id": "view-in-github",
        "colab_type": "text"
      },
      "source": [
        "<a href=\"https://colab.research.google.com/github/Hubobv/AI/blob/main/lung_canceer_example.ipynb\" target=\"_parent\"><img src=\"https://colab.research.google.com/assets/colab-badge.svg\" alt=\"Open In Colab\"/></a>"
      ]
    },
    {
      "cell_type": "code",
      "execution_count": 19,
      "metadata": {
        "id": "13_r_VdUNGGN"
      },
      "outputs": [],
      "source": [
        "import pandas as pd\n",
        "url='/lung_cancer_examples.csv'\n",
        "data=pd.read_csv(url)\n",
        "data.shape\n",
        "data.head()"
      ]
    },
    {
      "cell_type": "code",
      "source": [
        "canceer=data.drop(['Name','Surname'], axis=1).head()"
      ],
      "metadata": {
        "id": "N5Yq76wyTvQ7"
      },
      "execution_count": 64,
      "outputs": []
    },
    {
      "cell_type": "code",
      "source": [
        "from sklearn.linear_model import Perceptron\n",
        "from sklearn.model_selection import train_test_split\n",
        "from sklearn.metrics import accuracy_score\n",
        "from sklearn.preprocessing import StandardScaler\n",
        "x=canceer.loc[:,['Age','Smokes','AreaQ','Alkhol']]\n",
        "y=canceer['Result']\n",
        "x_train, x_test, y_train, y_test = train_test_split(x, y, test_size=0.3)\n",
        "Se=StandardScaler()\n",
        "Se.fit(x_train) #hoc\n",
        "x_train_std=Se.transform(x_train) #chuyen doi du lieu\n",
        "x_test_std=Se.transform(x_test)\n",
        "model=Perceptron(max_iter=800,eta0=0.1,\n",
        "                 random_state=0)\n",
        "model.fit(x_train_std,y_train)\n",
        "y_pred=model.predict(x_test_std)\n",
        "print(y_test)\n",
        "print(y_pred)\n",
        "print('do chinh xac cua mo hinh:', accuracy_score(y_test,y_pred)) #moi lan chay ra gia tri khac nhau"
      ],
      "metadata": {
        "colab": {
          "base_uri": "https://localhost:8080/"
        },
        "id": "qqovbPBpN2AM",
        "outputId": "4c46968f-8ce1-4191-e8db-a87aeb853a2e"
      },
      "execution_count": 116,
      "outputs": [
        {
          "output_type": "stream",
          "name": "stdout",
          "text": [
            "4    1\n",
            "0    1\n",
            "Name: Result, dtype: int64\n",
            "[1 1]\n",
            "do chinh xac cua mo hinh: 1.0\n"
          ]
        }
      ]
    },
    {
      "cell_type": "code",
      "source": [],
      "metadata": {
        "id": "L31ZQfXoO0S1"
      },
      "execution_count": 107,
      "outputs": []
    }
  ]
}