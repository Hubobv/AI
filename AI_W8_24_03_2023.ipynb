{
  "nbformat": 4,
  "nbformat_minor": 0,
  "metadata": {
    "colab": {
      "provenance": [],
      "authorship_tag": "ABX9TyMi78AhUFVW6SrO4fozF+BT",
      "include_colab_link": true
    },
    "kernelspec": {
      "name": "python3",
      "display_name": "Python 3"
    },
    "language_info": {
      "name": "python"
    }
  },
  "cells": [
    {
      "cell_type": "markdown",
      "metadata": {
        "id": "view-in-github",
        "colab_type": "text"
      },
      "source": [
        "<a href=\"https://colab.research.google.com/github/Hubobv/AI/blob/main/AI_W8_24_03_2023.ipynb\" target=\"_parent\"><img src=\"https://colab.research.google.com/assets/colab-badge.svg\" alt=\"Open In Colab\"/></a>"
      ]
    },
    {
      "cell_type": "code",
      "execution_count": 3,
      "metadata": {
        "colab": {
          "base_uri": "https://localhost:8080/"
        },
        "id": "1D3VRRvp-lVF",
        "outputId": "9adec544-be6f-4d3b-d312-3572e32745c6"
      },
      "outputs": [
        {
          "output_type": "stream",
          "name": "stdout",
          "text": [
            "[0 0 1 1 1 1 1]\n"
          ]
        },
        {
          "output_type": "execute_result",
          "data": {
            "text/plain": [
              "1.0"
            ]
          },
          "metadata": {},
          "execution_count": 3
        }
      ],
      "source": [
        "# day may hoc cong OR\n",
        "from sklearn.linear_model import Perceptron\n",
        "x=[[0,0],[1,0],[0,1],[1,1]]\n",
        "y=[0,1,1,1]\n",
        "model = Perceptron()\n",
        "model.fit(x,y)\n",
        "model.score(x,y) \n",
        "x1=[[0.5,0],[0,0.5],[0.6,0],\n",
        "   [0.51,0],[0,0.51],[10,-2],[0.2,1]]\n",
        "y1=model.predict(x1)\n",
        "print(y1)\n",
        "model.score(x1,y1)"
      ]
    },
    {
      "cell_type": "code",
      "source": [
        "from sklearn.linear_model import Perceptron\n",
        "x1=[[-0.5,-0.5],[-0.5,0.5],[0.3,-0.5],\n",
        "    [-0.1,1]]\n",
        "y=[1,1,0,0]\n",
        "model=Perceptron()\n",
        "model.fit(x1,y)\n",
        "model.score(x1,y)\n"
      ],
      "metadata": {
        "colab": {
          "base_uri": "https://localhost:8080/"
        },
        "id": "x4wr8ar8_yND",
        "outputId": "ab5a8acc-1f6d-4d84-f4bc-b51f9dd047a0"
      },
      "execution_count": 6,
      "outputs": [
        {
          "output_type": "execute_result",
          "data": {
            "text/plain": [
              "1.0"
            ]
          },
          "metadata": {},
          "execution_count": 6
        }
      ]
    },
    {
      "cell_type": "code",
      "source": [
        "from sklearn import datasets #lay du lieu\n",
        "from sklearn.linear_model import Perceptron\n",
        "from sklearn.model_selection import train_test_split\n",
        "from sklearn.metrics import accuracy_score\n",
        "from sklearn.preprocessing import StandardScaler"
      ],
      "metadata": {
        "id": "63o5IbomCisG"
      },
      "execution_count": 8,
      "outputs": []
    },
    {
      "cell_type": "code",
      "source": [
        "iris=datasets.load_iris()\n",
        "x=iris.data\n",
        "y=iris.target\n",
        "print(x[:5])\n",
        "print(y[:5])"
      ],
      "metadata": {
        "colab": {
          "base_uri": "https://localhost:8080/"
        },
        "id": "AJbs3s-qEbzR",
        "outputId": "19c0582c-a27a-430a-88cb-3425c35eca08"
      },
      "execution_count": 13,
      "outputs": [
        {
          "output_type": "stream",
          "name": "stdout",
          "text": [
            "[[5.1 3.5 1.4 0.2]\n",
            " [4.9 3.  1.4 0.2]\n",
            " [4.7 3.2 1.3 0.2]\n",
            " [4.6 3.1 1.5 0.2]\n",
            " [5.  3.6 1.4 0.2]]\n",
            "[0 0 0 0 0]\n"
          ]
        }
      ]
    },
    {
      "cell_type": "code",
      "source": [
        "x_train,x_test,y_train,y_test=train_test_split(x,y,test_size=0.3)\n",
        "Se=StandardScaler()\n",
        "Se.fit(x_train) #hoc\n",
        "x_train_std=Se.transform(x_train) #chuyen doi du lieu\n",
        "x_test_std=Se.transform(x_test)\n",
        "model=Perceptron(max_iter=40,eta0=0.1,\n",
        "                 random_state=0) \n",
        "model.fit(x_train,y_train)\n",
        "y_pred=model.predict(x_test)\n",
        "print(y_test) #gia tri co san\n",
        "print(y_pred) #gia tri tien doan\n",
        "print(\"do chinh xac khi chua scale:\", \n",
        "      accuracy_score(y_test,y_pred)) #moi lan chay ra gia tri khac nhau"
      ],
      "metadata": {
        "colab": {
          "base_uri": "https://localhost:8080/"
        },
        "id": "5A7v3sKKIZKb",
        "outputId": "7aaf154e-e41f-4f3b-b818-9b38a6394f64"
      },
      "execution_count": 60,
      "outputs": [
        {
          "output_type": "stream",
          "name": "stdout",
          "text": [
            "[1 2 0 0 2 1 1 1 2 0 1 2 2 1 1 2 0 1 1 0 1 2 1 0 2 0 1 1 2 2 2 2 1 2 1 1 0\n",
            " 2 1 2 1 0 2 2 1]\n",
            "[1 2 0 0 2 1 2 1 2 0 2 2 2 1 2 2 0 1 2 0 1 2 1 0 2 0 1 1 2 2 2 2 2 2 2 1 0\n",
            " 2 2 2 1 0 2 2 2]\n",
            "do chinh xac khi chua scale: 0.8222222222222222\n"
          ]
        }
      ]
    },
    {
      "cell_type": "code",
      "source": [
        "model=Perceptron(max_iter=40,eta0=0.1,\n",
        "                 random_state=0)\n",
        "model.fit(x_train_std,y_train)\n",
        "y_pred=model.predict(x_test_std)\n",
        "print(y_test)\n",
        "print(y_pred)\n",
        "print('do chinh xac khi scale:', accuracy_score(y_test,y_pred)) #moi lan chay ra gia tri khac nhau"
      ],
      "metadata": {
        "colab": {
          "base_uri": "https://localhost:8080/"
        },
        "id": "g2f0P1FUKJwr",
        "outputId": "07428640-3bb0-48c6-a614-5115d05114b9"
      },
      "execution_count": 61,
      "outputs": [
        {
          "output_type": "stream",
          "name": "stdout",
          "text": [
            "[1 2 0 0 2 1 1 1 2 0 1 2 2 1 1 2 0 1 1 0 1 2 1 0 2 0 1 1 2 2 2 2 1 2 1 1 0\n",
            " 2 1 2 1 0 2 2 1]\n",
            "[0 2 0 0 2 1 1 1 2 0 2 2 1 1 1 2 0 1 2 0 1 2 0 0 2 0 1 0 2 2 2 2 1 2 2 0 0\n",
            " 2 2 2 1 0 2 1 2]\n",
            "do chinh xac khi scale: 0.7555555555555555\n"
          ]
        }
      ]
    },
    {
      "cell_type": "code",
      "source": [],
      "metadata": {
        "id": "7BHLUKYgK_ns"
      },
      "execution_count": null,
      "outputs": []
    }
  ]
}